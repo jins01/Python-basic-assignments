{
 "cells": [
  {
   "cell_type": "markdown",
   "id": "9e975940",
   "metadata": {},
   "source": [
    "##1. Add the current date to the text file today.txt as a string"
   ]
  },
  {
   "cell_type": "code",
   "execution_count": 2,
   "id": "4bf0af98",
   "metadata": {},
   "outputs": [
    {
     "data": {
      "text/plain": [
       "'2022-09-10'"
      ]
     },
     "execution_count": 2,
     "metadata": {},
     "output_type": "execute_result"
    }
   ],
   "source": [
    "import datetime\n",
    "from datetime import date\n",
    "now=date.today()\n",
    "cd=now.isoformat()\n",
    "cd"
   ]
  },
  {
   "cell_type": "code",
   "execution_count": 4,
   "id": "f5fc0e51",
   "metadata": {},
   "outputs": [],
   "source": [
    "with open ('today.txt','w') as file:\n",
    "    file.write(cd)"
   ]
  },
  {
   "cell_type": "markdown",
   "id": "3f2d7aed",
   "metadata": {},
   "source": [
    "##2. Read the text file today.txt into the string today_string"
   ]
  },
  {
   "cell_type": "code",
   "execution_count": 5,
   "id": "bbac87f1",
   "metadata": {},
   "outputs": [
    {
     "data": {
      "text/plain": [
       "'2022-09-10'"
      ]
     },
     "execution_count": 5,
     "metadata": {},
     "output_type": "execute_result"
    }
   ],
   "source": [
    "with open ('today.txt','r') as file:\n",
    "    today_str=file.read()\n",
    "today_str"
   ]
  },
  {
   "cell_type": "markdown",
   "id": "8f878f3e",
   "metadata": {},
   "source": [
    "##3. Parse the date from today_string."
   ]
  },
  {
   "cell_type": "code",
   "execution_count": 6,
   "id": "ce39c7bc",
   "metadata": {},
   "outputs": [
    {
     "data": {
      "text/plain": [
       "datetime.datetime(2022, 9, 10, 0, 0)"
      ]
     },
     "execution_count": 6,
     "metadata": {},
     "output_type": "execute_result"
    }
   ],
   "source": [
    "from datetime import datetime\n",
    "format = '%Y-%m-%d'\n",
    "datetime.strptime(today_str,format)"
   ]
  },
  {
   "cell_type": "markdown",
   "id": "c59e7746",
   "metadata": {},
   "source": [
    "##4. List the files in your current directory"
   ]
  },
  {
   "cell_type": "code",
   "execution_count": 7,
   "id": "141faa87",
   "metadata": {},
   "outputs": [
    {
     "name": "stdout",
     "output_type": "stream",
     "text": [
      " Volume in drive C is OS\n",
      " Volume Serial Number is 24B7-E5B3\n",
      "\n",
      " Directory of C:\\Users\\liji\n",
      "\n",
      "10-09-2022  20:18    <DIR>          .\n",
      "26-01-2022  20:44    <DIR>          ..\n",
      "10-09-2022  20:08    <DIR>          .ipynb_checkpoints\n",
      "06-12-2021  22:45    <DIR>          .ipython\n",
      "13-02-2022  22:33    <DIR>          .jupyter\n",
      "16-01-2021  03:41    <DIR>          3D Objects\n",
      "26-01-2022  17:54    <DIR>          anaconda3\n",
      "13-02-2022  22:45               130 application_log.txt\n",
      "31-08-2021  23:14               151 BullseyeCoverageError.txt\n",
      "26-01-2022  17:28    <DIR>          Contacts\n",
      "07-09-2022  23:26    <DIR>          Desktop\n",
      "08-09-2022  00:12    <DIR>          Documents\n",
      "08-09-2022  01:14    <DIR>          Downloads\n",
      "26-01-2022  17:28    <DIR>          Favorites\n",
      "26-01-2022  17:28    <DIR>          Links\n",
      "26-01-2022  17:28    <DIR>          Music\n",
      "10-09-2022  19:57    <DIR>          OneDrive\n",
      "02-03-2022  21:42            11,666 PHASE-I.csv.xlsx\n",
      "26-01-2022  17:28    <DIR>          Pictures\n",
      "06-03-2022  19:35    <DIR>          PycharmProjects\n",
      "17-02-2022  23:05             5,961 Python Basic Assignment_13.ipynb\n",
      "21-02-2022  23:11         4,935,941 Python Basic Assignment_21.ipynb\n",
      "01-02-2022  22:24             6,215 Python Basic Assignment-03.ipynb\n",
      "01-02-2022  23:05            12,159 Python Basic Assignment-04.ipynb\n",
      "04-09-2022  23:15             4,711 Python Basic Assignment-06.ipynb\n",
      "05-09-2022  00:40            18,843 Python Basic Assignment-07.ipynb\n",
      "13-02-2022  15:44             9,253 Python Basic Assignment-08.ipynb\n",
      "07-09-2022  23:13             3,872 Python Basic Assignment--08.ipynb\n",
      "13-02-2022  15:52             5,316 Python Basic Assignment-09.ipynb\n",
      "31-01-2022  23:45             5,856 Python Basic Assignment-1.ipynb\n",
      "13-02-2022  22:27            14,653 Python Basic Assignment-10.ipynb\n",
      "13-02-2022  22:49            13,665 Python Basic Assignment-11.ipynb\n",
      "14-02-2022  23:05             8,173 Python Basic Assignment-12.ipynb\n",
      "02-03-2022  21:38             1,311 sample.csv\n",
      "02-03-2022  21:38             1,097 sample-csv-master.zip\n",
      "26-01-2022  17:28    <DIR>          Saved Games\n",
      "26-01-2022  17:28    <DIR>          Searches\n",
      "10-09-2022  20:16                10 today.txt\n",
      "06-12-2021  23:19             7,221 Untitled.ipynb\n",
      "08-12-2021  23:40             4,291 Untitled1.ipynb\n",
      "27-01-2022  23:19             4,087 Untitled10.ipynb\n",
      "30-01-2022  20:51             5,568 Untitled11.ipynb\n",
      "30-01-2022  23:22             2,646 Untitled12.ipynb\n",
      "31-01-2022  23:47             1,936 Untitled13.ipynb\n",
      "02-02-2022  21:17             4,558 Untitled14.ipynb\n",
      "02-03-2022  21:46             4,687 Untitled15.ipynb\n",
      "31-08-2022  22:53               751 Untitled16.ipynb\n",
      "03-09-2022  23:46             3,413 Untitled17.ipynb\n",
      "08-09-2022  01:14             6,880 Untitled18.ipynb\n",
      "08-09-2022  01:00             1,471 Untitled19.ipynb\n",
      "14-12-2021  00:11             3,601 Untitled2.ipynb\n",
      "08-09-2022  01:02             1,471 Untitled20.ipynb\n",
      "09-09-2022  22:48               588 Untitled21.ipynb\n",
      "10-09-2022  20:18             3,385 Untitled22.ipynb\n",
      "22-12-2021  22:22             1,464 Untitled3.ipynb\n",
      "22-12-2021  23:03             2,767 Untitled4.ipynb\n",
      "23-12-2021  11:16             1,287 Untitled5.ipynb\n",
      "18-01-2022  22:29             2,116 Untitled6.ipynb\n",
      "20-01-2022  23:10               588 Untitled7.ipynb\n",
      "23-01-2022  21:30            64,752 Untitled8.ipynb\n",
      "26-01-2022  23:28             3,182 Untitled9.ipynb\n",
      "26-01-2022  17:28    <DIR>          Videos\n",
      "02-03-2022  21:46               618 yahoo.csv\n",
      "              43 File(s)      5,192,311 bytes\n",
      "              20 Dir(s)  175,782,862,848 bytes free\n"
     ]
    }
   ],
   "source": [
    "ls"
   ]
  },
  {
   "cell_type": "code",
   "execution_count": 8,
   "id": "a3d939d5",
   "metadata": {},
   "outputs": [
    {
     "data": {
      "text/plain": [
       "['.ipynb_checkpoints',\n",
       " '.ipython',\n",
       " '.jupyter',\n",
       " '3D Objects',\n",
       " 'anaconda3',\n",
       " 'AppData',\n",
       " 'Application Data',\n",
       " 'application_log.txt',\n",
       " 'BullseyeCoverageError.txt',\n",
       " 'Contacts',\n",
       " 'Cookies',\n",
       " 'Desktop',\n",
       " 'Documents',\n",
       " 'Downloads',\n",
       " 'Favorites',\n",
       " 'IntelGraphicsProfiles',\n",
       " 'Links',\n",
       " 'Local Settings',\n",
       " 'Music',\n",
       " 'My Documents',\n",
       " 'NetHood',\n",
       " 'NTUSER.DAT',\n",
       " 'ntuser.dat.LOG1',\n",
       " 'ntuser.dat.LOG2',\n",
       " 'NTUSER.DAT{1c2b59c5-c5f5-11eb-bacb-000d3a96488e}.TxR.0.regtrans-ms',\n",
       " 'NTUSER.DAT{1c2b59c5-c5f5-11eb-bacb-000d3a96488e}.TxR.1.regtrans-ms',\n",
       " 'NTUSER.DAT{1c2b59c5-c5f5-11eb-bacb-000d3a96488e}.TxR.2.regtrans-ms',\n",
       " 'NTUSER.DAT{1c2b59c5-c5f5-11eb-bacb-000d3a96488e}.TxR.blf',\n",
       " 'NTUSER.DAT{1c2b59c6-c5f5-11eb-bacb-000d3a96488e}.TM.blf',\n",
       " 'NTUSER.DAT{1c2b59c6-c5f5-11eb-bacb-000d3a96488e}.TMContainer00000000000000000001.regtrans-ms',\n",
       " 'NTUSER.DAT{1c2b59c6-c5f5-11eb-bacb-000d3a96488e}.TMContainer00000000000000000002.regtrans-ms',\n",
       " 'ntuser.ini',\n",
       " 'OneDrive',\n",
       " 'PHASE-I.csv.xlsx',\n",
       " 'Pictures',\n",
       " 'PrintHood',\n",
       " 'PycharmProjects',\n",
       " 'Python Basic Assignment--08.ipynb',\n",
       " 'Python Basic Assignment-03.ipynb',\n",
       " 'Python Basic Assignment-04.ipynb',\n",
       " 'Python Basic Assignment-06.ipynb',\n",
       " 'Python Basic Assignment-07.ipynb',\n",
       " 'Python Basic Assignment-08.ipynb',\n",
       " 'Python Basic Assignment-09.ipynb',\n",
       " 'Python Basic Assignment-1.ipynb',\n",
       " 'Python Basic Assignment-10.ipynb',\n",
       " 'Python Basic Assignment-11.ipynb',\n",
       " 'Python Basic Assignment-12.ipynb',\n",
       " 'Python Basic Assignment_13.ipynb',\n",
       " 'Python Basic Assignment_21.ipynb',\n",
       " 'Recent',\n",
       " 'sample-csv-master.zip',\n",
       " 'sample.csv',\n",
       " 'Saved Games',\n",
       " 'Searches',\n",
       " 'SendTo',\n",
       " 'Start Menu',\n",
       " 'Templates',\n",
       " 'today.txt',\n",
       " 'Untitled.ipynb',\n",
       " 'Untitled1.ipynb',\n",
       " 'Untitled10.ipynb',\n",
       " 'Untitled11.ipynb',\n",
       " 'Untitled12.ipynb',\n",
       " 'Untitled13.ipynb',\n",
       " 'Untitled14.ipynb',\n",
       " 'Untitled15.ipynb',\n",
       " 'Untitled16.ipynb',\n",
       " 'Untitled17.ipynb',\n",
       " 'Untitled18.ipynb',\n",
       " 'Untitled19.ipynb',\n",
       " 'Untitled2.ipynb',\n",
       " 'Untitled20.ipynb',\n",
       " 'Untitled21.ipynb',\n",
       " 'Untitled22.ipynb',\n",
       " 'Untitled3.ipynb',\n",
       " 'Untitled4.ipynb',\n",
       " 'Untitled5.ipynb',\n",
       " 'Untitled6.ipynb',\n",
       " 'Untitled7.ipynb',\n",
       " 'Untitled8.ipynb',\n",
       " 'Untitled9.ipynb',\n",
       " 'Videos',\n",
       " 'yahoo.csv']"
      ]
     },
     "execution_count": 8,
     "metadata": {},
     "output_type": "execute_result"
    }
   ],
   "source": [
    "import os\n",
    "os.listdir('.')"
   ]
  },
  {
   "cell_type": "markdown",
   "id": "90924c6d",
   "metadata": {},
   "source": [
    "##5. Create a list of all of the files in your parent directory (minimum five files should be available)"
   ]
  },
  {
   "cell_type": "code",
   "execution_count": 9,
   "id": "3723b5d2",
   "metadata": {},
   "outputs": [
    {
     "data": {
      "text/plain": [
       "['All Users',\n",
       " 'Default',\n",
       " 'Default User',\n",
       " 'desktop.ini',\n",
       " 'liji',\n",
       " 'Public',\n",
       " 'Roll call']"
      ]
     },
     "execution_count": 9,
     "metadata": {},
     "output_type": "execute_result"
    }
   ],
   "source": [
    "os.listdir('..')"
   ]
  },
  {
   "cell_type": "markdown",
   "id": "628fe173",
   "metadata": {},
   "source": [
    "##6. Use multiprocessing to create three separate processes. Make each one wait a random number of seconds between one and five, print the current time, and then exit."
   ]
  },
  {
   "cell_type": "code",
   "execution_count": 11,
   "id": "807654a6",
   "metadata": {},
   "outputs": [],
   "source": [
    "import multiprocessing\n",
    "\n",
    "def printsec(seconds):\n",
    "    from datetime import datetime\n",
    "    from time import sleep\n",
    "    sleep(seconds)\n",
    "    print('wait', seconds, 'seconds, time is', datetime.utcnow())\n",
    "    \n",
    "if __name__ == '__main__':\n",
    "    import random    \n",
    "    for n in range(3):\n",
    "        seconds = random.random()\n",
    "        proc = multiprocessing.Process(target=printsec, args=(seconds,))\n",
    "        proc.start()"
   ]
  },
  {
   "cell_type": "code",
   "execution_count": null,
   "id": "ea84b864",
   "metadata": {},
   "outputs": [],
   "source": [
    "!python zoo.py"
   ]
  },
  {
   "cell_type": "markdown",
   "id": "5167f32e",
   "metadata": {},
   "source": [
    "##7. Create a date object of your day of birth."
   ]
  },
  {
   "cell_type": "code",
   "execution_count": 12,
   "id": "b279f594",
   "metadata": {},
   "outputs": [
    {
     "data": {
      "text/plain": [
       "datetime.date(1989, 12, 10)"
      ]
     },
     "execution_count": 12,
     "metadata": {},
     "output_type": "execute_result"
    }
   ],
   "source": [
    "my_dob=date(1989,12,10)\n",
    "my_dob"
   ]
  },
  {
   "cell_type": "markdown",
   "id": "b3c43503",
   "metadata": {},
   "source": [
    "##8. What day of the week was your day of birth?"
   ]
  },
  {
   "cell_type": "code",
   "execution_count": 13,
   "id": "39d21233",
   "metadata": {},
   "outputs": [
    {
     "data": {
      "text/plain": [
       "6"
      ]
     },
     "execution_count": 13,
     "metadata": {},
     "output_type": "execute_result"
    }
   ],
   "source": [
    "my_dob.weekday()"
   ]
  },
  {
   "cell_type": "markdown",
   "id": "7aae5308",
   "metadata": {},
   "source": [
    "##9. When will you be (or when were you) 10,000 days old?"
   ]
  },
  {
   "cell_type": "code",
   "execution_count": 14,
   "id": "951217d2",
   "metadata": {},
   "outputs": [
    {
     "data": {
      "text/plain": [
       "datetime.date(2017, 4, 27)"
      ]
     },
     "execution_count": 14,
     "metadata": {},
     "output_type": "execute_result"
    }
   ],
   "source": [
    "from datetime import timedelta\n",
    "day10000 = my_dob + timedelta(days=10000)\n",
    "day10000"
   ]
  }
 ],
 "metadata": {
  "kernelspec": {
   "display_name": "Python 3 (ipykernel)",
   "language": "python",
   "name": "python3"
  },
  "language_info": {
   "codemirror_mode": {
    "name": "ipython",
    "version": 3
   },
   "file_extension": ".py",
   "mimetype": "text/x-python",
   "name": "python",
   "nbconvert_exporter": "python",
   "pygments_lexer": "ipython3",
   "version": "3.9.7"
  }
 },
 "nbformat": 4,
 "nbformat_minor": 5
}
