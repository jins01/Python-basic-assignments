{
 "cells": [
  {
   "cell_type": "markdown",
   "id": "4f07cdbf",
   "metadata": {},
   "source": [
    "# 1.What are the two values of the Boolean data type? How do you write them?\n",
    "\n",
    "The boolean value can be of two types only i.e. either True or False. The output <class ‘bool’> indicates the variable is a boolean data type."
   ]
  },
  {
   "cell_type": "code",
   "execution_count": 1,
   "id": "3090bc7c",
   "metadata": {},
   "outputs": [
    {
     "name": "stdout",
     "output_type": "stream",
     "text": [
      "False\n",
      "True\n"
     ]
    }
   ],
   "source": [
    "# True & False\n",
    "a=10\n",
    "b=20\n",
    "print(a==b)\n",
    "print(a!=b)"
   ]
  },
  {
   "cell_type": "markdown",
   "id": "f7269cec",
   "metadata": {},
   "source": [
    "## 2. What are the three different types of Boolean operators?\n",
    "\n",
    "AND, OR, NOT"
   ]
  },
  {
   "cell_type": "markdown",
   "id": "377ba932",
   "metadata": {},
   "source": [
    "# 3. Make a list of each Boolean operator's truth tables (i.e. every possible combination of Boolean\n",
    "values for the operator and what it evaluate )."
   ]
  },
  {
   "cell_type": "code",
   "execution_count": null,
   "id": "ad0cfbd2",
   "metadata": {},
   "outputs": [],
   "source": [
    "# AND OPERATOR\n",
    "\n",
    "# A       B         A and B\n",
    "# True   True     True\n",
    "# True   False   False\n",
    "# False  True    False\n",
    "# False  False   False\n",
    "\n",
    "# OR OPERATOR\n",
    " \n",
    "#  A        B       A or B\n",
    "# True    True       True\n",
    "# True    False      True\n",
    "# False   True       True\n",
    "# False   False      False\n",
    "\n",
    "\n",
    "#  NOT OPERATOR\n",
    " \n",
    "#  A       Not A\n",
    "# True     False\n",
    "# False    True"
   ]
  },
  {
   "cell_type": "markdown",
   "id": "8d4558f0",
   "metadata": {},
   "source": [
    "# 4. What are the values of the following expressions?"
   ]
  },
  {
   "cell_type": "code",
   "execution_count": 2,
   "id": "e6a243b4",
   "metadata": {},
   "outputs": [
    {
     "data": {
      "text/plain": [
       "False"
      ]
     },
     "execution_count": 2,
     "metadata": {},
     "output_type": "execute_result"
    }
   ],
   "source": [
    "(5 > 4) and (3 == 5)"
   ]
  },
  {
   "cell_type": "code",
   "execution_count": 3,
   "id": "cc8b1db9",
   "metadata": {},
   "outputs": [
    {
     "data": {
      "text/plain": [
       "False"
      ]
     },
     "execution_count": 3,
     "metadata": {},
     "output_type": "execute_result"
    }
   ],
   "source": [
    "not (5 > 4)"
   ]
  },
  {
   "cell_type": "code",
   "execution_count": 4,
   "id": "f0a59e51",
   "metadata": {},
   "outputs": [
    {
     "data": {
      "text/plain": [
       "True"
      ]
     },
     "execution_count": 4,
     "metadata": {},
     "output_type": "execute_result"
    }
   ],
   "source": [
    "(5 > 4) or (3 == 5)"
   ]
  },
  {
   "cell_type": "code",
   "execution_count": 5,
   "id": "dcc0faea",
   "metadata": {},
   "outputs": [
    {
     "data": {
      "text/plain": [
       "False"
      ]
     },
     "execution_count": 5,
     "metadata": {},
     "output_type": "execute_result"
    }
   ],
   "source": [
    "not ((5 > 4) or (3 == 5))"
   ]
  },
  {
   "cell_type": "code",
   "execution_count": 6,
   "id": "ba48bd0c",
   "metadata": {},
   "outputs": [
    {
     "data": {
      "text/plain": [
       "False"
      ]
     },
     "execution_count": 6,
     "metadata": {},
     "output_type": "execute_result"
    }
   ],
   "source": [
    "(True and True) and (True == False)"
   ]
  },
  {
   "cell_type": "code",
   "execution_count": 7,
   "id": "2700e363",
   "metadata": {},
   "outputs": [
    {
     "data": {
      "text/plain": [
       "True"
      ]
     },
     "execution_count": 7,
     "metadata": {},
     "output_type": "execute_result"
    }
   ],
   "source": [
    "(not False) or (not True)"
   ]
  },
  {
   "cell_type": "markdown",
   "id": "3b36060c",
   "metadata": {},
   "source": [
    "# 5. What are the six comparison operators?"
   ]
  },
  {
   "cell_type": "code",
   "execution_count": null,
   "id": "effe709f",
   "metadata": {},
   "outputs": [],
   "source": [
    "Name of the Operator        Operator                Example\n",
    "\n",
    "#Equal to                       ==                  a==b\n",
    "#Not equal to                   !=                  a!=b\n",
    "#Less than                       <                  a<b\n",
    "#Greater than                    >                  a>b\n",
    "#Less than or equal to           <=                 a<=b\n",
    "#Greater than or equal to        >=                 a>=b"
   ]
  },
  {
   "cell_type": "markdown",
   "id": "c73839e5",
   "metadata": {},
   "source": [
    "# 6. How do you tell the difference between the equal to and assignment operators?Describe a condition and when you would use one."
   ]
  },
  {
   "cell_type": "code",
   "execution_count": null,
   "id": "91c43ae0",
   "metadata": {},
   "outputs": [],
   "source": [
    "          =                                                         ==\n",
    "#It is an assignment operator.                          It is a relational or comparison operator. \n",
    "\n",
    "#It is used for assigning the value to a variable.      It is used for comparing two values. It returns 1 if both the values are equal otherwise returns 0.\n",
    "\n",
    "#Constant term cannot be placed on left hand side.      Constant term can be placed in the left hand side.\n",
    "#Example: 1=x; is invalid.                               Example: 1==1 is valid and returns 1."
   ]
  },
  {
   "cell_type": "markdown",
   "id": "0bc5aa4a",
   "metadata": {},
   "source": [
    "# 7. Identify the three blocks in this code:"
   ]
  },
  {
   "cell_type": "code",
   "execution_count": 8,
   "id": "1fa9888c",
   "metadata": {},
   "outputs": [
    {
     "name": "stdout",
     "output_type": "stream",
     "text": [
      "spam\n"
     ]
    }
   ],
   "source": [
    "spam = 0\n",
    "if spam == 10:\n",
    "    print('eggs')        # indent increased, block A\n",
    "    if spam > 5:         # still block A\n",
    "        print('bacon')   # still block A, indent increased, block B inside block A\n",
    "    else:                # still block A, indent decreased, block B ended in line above\n",
    "        print('ham')     # still block A, indent increased, block C inside block A\n",
    "    print('spam')        # still block A, indent decreased, block C ended in line above\n",
    "print('spam')            # indent decreased, block A ended in line above"
   ]
  },
  {
   "cell_type": "markdown",
   "id": "c56a7d81",
   "metadata": {},
   "source": [
    "# 8. Write code that prints Hello if 1 is stored in spam, prints Howdy if 2 is stored in spam, and prints Greetings! if anything else is stored in spam"
   ]
  },
  {
   "cell_type": "code",
   "execution_count": 9,
   "id": "bb1fb0b9",
   "metadata": {},
   "outputs": [
    {
     "name": "stdout",
     "output_type": "stream",
     "text": [
      "1\n",
      "Hello\n"
     ]
    }
   ],
   "source": [
    "spam = int(input())\n",
    "if spam == 1:\n",
    "    print(\"Hello\")\n",
    "elif spam == 2:\n",
    "    print(\"Howdy\")\n",
    "else:\n",
    "    print (\"Greetings!\")"
   ]
  },
  {
   "cell_type": "markdown",
   "id": "63ed90b0",
   "metadata": {},
   "source": [
    "# 9.If your programme is stuck in an endless loop, what keys you’ll press?\n",
    " \n",
    " By pressing \"i\" 2 times the kernal will get interrupt so that loop will come to an end.\n",
    "                                    (or)\n",
    "                                   ctrl + c"
   ]
  },
  {
   "cell_type": "markdown",
   "id": "4765446e",
   "metadata": {},
   "source": [
    "# 10. How can you tell the difference between break and continue?"
   ]
  },
  {
   "cell_type": "code",
   "execution_count": null,
   "id": "9748c155",
   "metadata": {},
   "outputs": [],
   "source": [
    " break                                                     continue\n",
    "     \n",
    "#leaves the loop                                          jumps for next iteration  \n",
    "\n",
    "#skips remaining execution of complete loop               skips execution of remaining statement(s) inside the loop for current iteration\n",
    "\n",
    "#useful, if condition always evaluates to be True         useful, if wants to skip execution of some statement(s) inside the loop for any particular iteration"
   ]
  },
  {
   "cell_type": "code",
   "execution_count": 10,
   "id": "146c2abf",
   "metadata": {},
   "outputs": [
    {
     "name": "stdout",
     "output_type": "stream",
     "text": [
      "----Using #break -------\n",
      "1\n",
      "----Using #continue-------\n",
      "1\n",
      "3\n",
      "4\n",
      "5\n"
     ]
    }
   ],
   "source": [
    "# example \n",
    "nums = [1, 2, 3, 4, 5]\n",
    "\n",
    "print(\"----Using #break -------\")\n",
    "for n in nums:\n",
    "    if n == 2:\n",
    "        break\n",
    "    print(n)              # exit from the loop\n",
    "\n",
    "print(\"----Using #continue-------\")\n",
    "for n in nums:\n",
    "    if n == 2:\n",
    "        continue          #jumps for next iteration\n",
    "    print(n)"
   ]
  },
  {
   "cell_type": "markdown",
   "id": "a2878f52",
   "metadata": {},
   "source": [
    "# 11. In a for loop, what is the difference between range(10), range(0, 10), and range(0, 10, 1)?\n",
    "  \n",
    " No difference"
   ]
  },
  {
   "cell_type": "code",
   "execution_count": 11,
   "id": "1b59b4ce",
   "metadata": {},
   "outputs": [
    {
     "name": "stdout",
     "output_type": "stream",
     "text": [
      "0\n",
      "1\n",
      "2\n",
      "3\n",
      "4\n",
      "5\n",
      "6\n",
      "7\n",
      "8\n",
      "9\n"
     ]
    }
   ],
   "source": [
    "for i in range(10):\n",
    "    print(i)"
   ]
  },
  {
   "cell_type": "code",
   "execution_count": 12,
   "id": "d2ab70a7",
   "metadata": {},
   "outputs": [
    {
     "name": "stdout",
     "output_type": "stream",
     "text": [
      "0\n",
      "1\n",
      "2\n",
      "3\n",
      "4\n",
      "5\n",
      "6\n",
      "7\n",
      "8\n",
      "9\n"
     ]
    }
   ],
   "source": [
    "for i in range(0,10):\n",
    "    print(i)"
   ]
  },
  {
   "cell_type": "code",
   "execution_count": 13,
   "id": "dba016b5",
   "metadata": {},
   "outputs": [
    {
     "name": "stdout",
     "output_type": "stream",
     "text": [
      "0\n",
      "1\n",
      "2\n",
      "3\n",
      "4\n",
      "5\n",
      "6\n",
      "7\n",
      "8\n",
      "9\n"
     ]
    }
   ],
   "source": [
    "for i in range(0,10,1):\n",
    "    print(i)"
   ]
  },
  {
   "cell_type": "markdown",
   "id": "2baee9b7",
   "metadata": {},
   "source": [
    "# 12. Write a short program that prints the numbers 1 to 10 using a for loop. Then write an equivalent program that prints the numbers 1 to 10 using a while loop."
   ]
  },
  {
   "cell_type": "code",
   "execution_count": 14,
   "id": "ede777a0",
   "metadata": {},
   "outputs": [
    {
     "name": "stdout",
     "output_type": "stream",
     "text": [
      "1\n",
      "2\n",
      "3\n",
      "4\n",
      "5\n",
      "6\n",
      "7\n",
      "8\n",
      "9\n",
      "10\n"
     ]
    }
   ],
   "source": [
    "for i in range (1,11):\n",
    "    print(i)"
   ]
  },
  {
   "cell_type": "code",
   "execution_count": 15,
   "id": "f1c8920a",
   "metadata": {},
   "outputs": [
    {
     "name": "stdout",
     "output_type": "stream",
     "text": [
      "1\n",
      "2\n",
      "3\n",
      "4\n",
      "5\n",
      "6\n",
      "7\n",
      "8\n",
      "9\n",
      "10\n"
     ]
    }
   ],
   "source": [
    "a=1\n",
    "while (a<=10):\n",
    "    print(a)\n",
    "    a+=1"
   ]
  },
  {
   "cell_type": "markdown",
   "id": "3aafc5e8",
   "metadata": {},
   "source": [
    "# 13. If you had a function named bacon() inside a module named spam, how would you call it after importing spam?\n",
    "\n",
    "This function can be called with spam.bacon()"
   ]
  }
 ],
 "metadata": {
  "kernelspec": {
   "display_name": "Python 3 (ipykernel)",
   "language": "python",
   "name": "python3"
  },
  "language_info": {
   "codemirror_mode": {
    "name": "ipython",
    "version": 3
   },
   "file_extension": ".py",
   "mimetype": "text/x-python",
   "name": "python",
   "nbconvert_exporter": "python",
   "pygments_lexer": "ipython3",
   "version": "3.9.7"
  }
 },
 "nbformat": 4,
 "nbformat_minor": 5
}
