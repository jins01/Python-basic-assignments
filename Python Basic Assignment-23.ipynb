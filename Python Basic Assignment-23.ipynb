{
 "cells": [
  {
   "cell_type": "markdown",
   "id": "30ddf0a2",
   "metadata": {},
   "source": [
    "### 1. What is the result of the code, and why?\n",
    "\n",
    "def func(a, b=6, c=8):\n",
    "    print(a, b, c)\n",
    "func(1, 2)\n",
    "\n",
    "Answer: This funtion is taking a positional argument and 2 keyward argument. When function call m=is made, parameter passed are a=1,b=2. When the function is executed , parameter c=8 will be taken by default as its a keyword argument. solurion is = 1,2,8"
   ]
  },
  {
   "cell_type": "code",
   "execution_count": 1,
   "id": "0395658f",
   "metadata": {},
   "outputs": [
    {
     "name": "stdout",
     "output_type": "stream",
     "text": [
      "1 2 8\n"
     ]
    }
   ],
   "source": [
    "def func(a, b=6, c=8):\n",
    "    print(a, b, c)\n",
    "func(1, 2)"
   ]
  },
  {
   "cell_type": "markdown",
   "id": "e067e2a4",
   "metadata": {},
   "source": [
    "### 2. What is the result of this code, and why?\n",
    "\n",
    "def func(a, b, c=5):\n",
    "    print(a, b, c)\n",
    "func(1, c=3, b=2)\n",
    "\n",
    "\n",
    "Answer: When we make function call, order will be positional argument and then keywords arguments. we can pass the keyword arguments in any order we want. Solution is 1,2,3"
   ]
  },
  {
   "cell_type": "code",
   "execution_count": 2,
   "id": "7b1e3c1e",
   "metadata": {},
   "outputs": [
    {
     "name": "stdout",
     "output_type": "stream",
     "text": [
      "1 2 3\n"
     ]
    }
   ],
   "source": [
    "def func(a, b, c=5):\n",
    "    print(a, b, c)\n",
    "func(1, c=3, b=2)"
   ]
  },
  {
   "cell_type": "markdown",
   "id": "3bf410f4",
   "metadata": {},
   "source": [
    "### 3. How about this code: what is its result, and why?\n",
    "\n",
    "def func(a, *pargs):\n",
    "    print(a, pargs)\n",
    "func(1, 2, 3)\n",
    "\n",
    "\n",
    "Answer: The return type of *args parameter is tuple, where as **kargs will be dictionary solution is = 1,(2,3)"
   ]
  },
  {
   "cell_type": "code",
   "execution_count": 3,
   "id": "8c82383a",
   "metadata": {},
   "outputs": [
    {
     "name": "stdout",
     "output_type": "stream",
     "text": [
      "1 (2, 3)\n"
     ]
    }
   ],
   "source": [
    "def func(a, *pargs):\n",
    "    print(a, pargs)\n",
    "func(1, 2, 3)"
   ]
  },
  {
   "cell_type": "markdown",
   "id": "edf96910",
   "metadata": {},
   "source": [
    "### 4. What does this code print, and why?\n",
    "\n",
    "def func(a, **kargs):\n",
    "    print(a, kargs)\n",
    "func(a=1, c=3, b=2)\n",
    "\n",
    "Answer : The return type of **kargs is dictionary solution is = 1,{'c':3,'b':2}"
   ]
  },
  {
   "cell_type": "code",
   "execution_count": 4,
   "id": "19c08f83",
   "metadata": {},
   "outputs": [
    {
     "name": "stdout",
     "output_type": "stream",
     "text": [
      "1 {'c': 3, 'b': 2}\n"
     ]
    }
   ],
   "source": [
    "def func(a, **kargs):\n",
    "    print(a, kargs)\n",
    "func(a=1, c=3, b=2)"
   ]
  },
  {
   "cell_type": "markdown",
   "id": "71384c32",
   "metadata": {},
   "source": [
    "### 5. What gets printed by this, and explain?\n",
    "\n",
    "def func(a, b, c=8, d=5): \n",
    "    print(a, b, c, d)\n",
    "func(1, *(5, 6))\n",
    "\n",
    "\n",
    "Answer : '' is the unpacking operator and are operators that unpack the values from iterable objects in Python. The single asterisk operator can be used on any iterable that Python provides, while the double asterisk operator * can only be used on dictionaries. In the example the value (5,6) will be unpacked and will be assigned to b and c and passed as arguments, d =5 will taken by defaults are keyword arguments.\n",
    "\n",
    "Solution 1,5,6,5"
   ]
  },
  {
   "cell_type": "code",
   "execution_count": 5,
   "id": "2bd99717",
   "metadata": {},
   "outputs": [
    {
     "name": "stdout",
     "output_type": "stream",
     "text": [
      "1 5 6 5\n"
     ]
    }
   ],
   "source": [
    "def func(a, b, c=8, d=5): \n",
    "    print(a, b, c, d)\n",
    "func(1, *(5, 6))"
   ]
  },
  {
   "cell_type": "markdown",
   "id": "c234a487",
   "metadata": {},
   "source": [
    "### 6. what is the result of this, and explain?\n",
    "\n",
    "def func(a, b, c): \n",
    "    a = 2; b[0] = 'x'; c['a'] = 'y'\n",
    "\n",
    "    l=1; m=[1]; n={'a':0}\n",
    "    print(l,m,n)\n",
    "func(l, m, n)\n",
    "\n",
    "l, m, n\n",
    "\n",
    "\n",
    "Answer: Here in the code, the list and dict are passed as argument, and those are mutable. Here the list l and parametr b point to the same list in the memeory location where as dict n and c point to the same memory location. Any updates to this list will update in the memory location\n",
    "\n",
    "l = 1 , integer values, immutable, m is list, mutable, n is dict, mutable. output will be = 1,['x'],{'a':'y'}"
   ]
  },
  {
   "cell_type": "code",
   "execution_count": 9,
   "id": "14010c75",
   "metadata": {},
   "outputs": [
    {
     "data": {
      "text/plain": [
       "(1, ['x'], {'a': 'y'})"
      ]
     },
     "execution_count": 9,
     "metadata": {},
     "output_type": "execute_result"
    }
   ],
   "source": [
    "def func(a, b, c): \n",
    "    a = 2; b[0] = 'x'; c['a'] = 'y'\n",
    "    \n",
    "l=1; m=[1]; n={'a':0}\n",
    "func(l, m, n)\n",
    "\n",
    "l, m, n"
   ]
  }
 ],
 "metadata": {
  "kernelspec": {
   "display_name": "Python 3 (ipykernel)",
   "language": "python",
   "name": "python3"
  },
  "language_info": {
   "codemirror_mode": {
    "name": "ipython",
    "version": 3
   },
   "file_extension": ".py",
   "mimetype": "text/x-python",
   "name": "python",
   "nbconvert_exporter": "python",
   "pygments_lexer": "ipython3",
   "version": "3.9.7"
  }
 },
 "nbformat": 4,
 "nbformat_minor": 5
}
