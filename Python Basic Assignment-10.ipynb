{
 "cells": [
  {
   "cell_type": "markdown",
   "id": "c1b5a992",
   "metadata": {},
   "source": [
    "## 1. How do you distinguish between shutil.copy() and shutil.copytree()?\n",
    " \n",
    " shutil.copy : Copies a single file\n",
    " shutil.copytree() : will copy an entire folder and every folder and file contained in it\n"
   ]
  },
  {
   "cell_type": "markdown",
   "id": "ac09d107",
   "metadata": {},
   "source": [
    "## 2. What function is used to rename files?\n",
    "\n",
    "The os.rename() function is used for renaming files"
   ]
  },
  {
   "cell_type": "code",
   "execution_count": null,
   "id": "65f8fc47",
   "metadata": {},
   "outputs": [],
   "source": [
    "#import os\n",
    "#os.rename(\"test\",\"test.fs\")"
   ]
  },
  {
   "cell_type": "markdown",
   "id": "f3b7a5ba",
   "metadata": {},
   "source": [
    "## 3. What is the difference between the delete functions in the send2trash and shutil modules?\n",
    "\n",
    " import shutil\n",
    " shutil.retree():\n",
    " The shutil module’s rmtree() function can be used to delete files or folders. But, this function delete the files permanently. \n",
    " The operations cannot be undone if there were any accidental deletions performed \n",
    "\n",
    " import send2trash\n",
    " send2trash.send2trash() : Using send2trash, we can send files to the Trash or Recycle Bin instead of permanently deleting them.\n",
    " If the directory contains files or other folders, those are also deleted. A TrashPermissionError exception is raised, in case a file could not be deleted due to permission error or any other unexpected reason."
   ]
  },
  {
   "cell_type": "code",
   "execution_count": null,
   "id": "4018477c",
   "metadata": {},
   "outputs": [],
   "source": [
    "#import shutil\n",
    "#import send2trash\n",
    "#shutil.rmtree(\"path\")\n",
    "#send2trash.send2trash(\"path\")"
   ]
  },
  {
   "cell_type": "markdown",
   "id": "ed85cf75",
   "metadata": {},
   "source": [
    "## 4.ZipFile objects have a close() method just like File objects’ close() method. What ZipFile method is equivalent to File objects’ open() method?\n",
    "\n",
    "from zipfile import Zipfile\n",
    "with ZipFile(file_name, 'r') as zip: -> this code will open specified zipfile for us. we can use zip objext to preform  other  operation the ziplife. like zip.read()\n"
   ]
  },
  {
   "cell_type": "markdown",
   "id": "f9d585a9",
   "metadata": {},
   "source": [
    "## 5. Create a programme that searches a folder tree for files with a certain file extension (such as .pdf or .jpg). Copy these files from whatever location they are in to a new folder.\n",
    "Write a program that walks through a folder tree\n",
    "and searches for files with a certain file extension (such as .pdf or .jpg).\n",
    "Copy these files from whatever location they are in to a new folder."
   ]
  },
  {
   "cell_type": "code",
   "execution_count": 1,
   "id": "9f2288c4",
   "metadata": {},
   "outputs": [
    {
     "name": "stdout",
     "output_type": "stream",
     "text": [
      "Looking in Downloads for files with extensions of .mp4, .pdf, .jpg\n",
      "Coping Downloads\\150690.pdf.pdf to C:\\Users\\liji\\Desktop\\dest\n",
      "Coping Downloads\\408291436-Rao-K-S-Introduction-to-Partial-Differential-Equations-2011-pdf.pdf to C:\\Users\\liji\\Desktop\\dest\n",
      "Coping Downloads\\Calculus of Variations by Lev D. Elsgolc.pdf to C:\\Users\\liji\\Desktop\\dest\n",
      "Coping Downloads\\Checklist BPCL_Aug 2021.pdf to C:\\Users\\liji\\Desktop\\dest\n",
      "Coping Downloads\\cmnMarriageCertificate.pdf to C:\\Users\\liji\\Desktop\\dest\n",
      "Coping Downloads\\CONFORMAL TRANSFORMATION.pdf to C:\\Users\\liji\\Desktop\\dest\n",
      "Coping Downloads\\equama liji.pdf to C:\\Users\\liji\\Desktop\\dest\n",
      "Coping Downloads\\esma-soGaUUh-2w4-unsplash.jpg to C:\\Users\\liji\\Desktop\\dest\n",
      "Coping Downloads\\groom album.pdf to C:\\Users\\liji\\Desktop\\dest\n",
      "Coping Downloads\\HF027274_02_03_2021_10_22_08 AM_Contract.pdf to C:\\Users\\liji\\Desktop\\dest\n",
      "Coping Downloads\\ICRAMET 2021-DAY 1-Session 1 Schedule (1).pdf to C:\\Users\\liji\\Desktop\\dest\n",
      "Coping Downloads\\ICRAMET 2021-DAY 1-Session 1 Schedule.pdf to C:\\Users\\liji\\Desktop\\dest\n",
      "Coping Downloads\\ICRAMET 2021_Mech_Brochure (1).pdf to C:\\Users\\liji\\Desktop\\dest\n",
      "Coping Downloads\\ICRAMET 2021_Mech_Brochure.pdf to C:\\Users\\liji\\Desktop\\dest\n",
      "Coping Downloads\\Instructions Regarding Exam.pdf to C:\\Users\\liji\\Desktop\\dest\n",
      "Coping Downloads\\Invitation ICRAMET 2021 (1).pdf to C:\\Users\\liji\\Desktop\\dest\n",
      "Coping Downloads\\Invitation ICRAMET 2021.pdf to C:\\Users\\liji\\Desktop\\dest\n",
      "Coping Downloads\\JINSMON JOSEPH.pdf to C:\\Users\\liji\\Desktop\\dest\n",
      "Coping Downloads\\jinsmon passport front.jpg to C:\\Users\\liji\\Desktop\\dest\n",
      "Coping Downloads\\jinsmon passport-back.jpg to C:\\Users\\liji\\Desktop\\dest\n",
      "Coping Downloads\\jinsmon resume 231019.pdf to C:\\Users\\liji\\Desktop\\dest\n",
      "Coping Downloads\\JINS_COPY PHOTO_WHITE BACKGROUND.jpg to C:\\Users\\liji\\Desktop\\dest\n",
      "Coping Downloads\\JOURNAL PAPER jinsmon j.pdf to C:\\Users\\liji\\Desktop\\dest\n",
      "Coping Downloads\\JOURNAL PAPER subeesh.pdf to C:\\Users\\liji\\Desktop\\dest\n",
      "Coping Downloads\\JOURNAL PAPER.pdf to C:\\Users\\liji\\Desktop\\dest\n",
      "Coping Downloads\\lennart-schulz-vCTWptmW3kY-unsplash.jpg to C:\\Users\\liji\\Desktop\\dest\n",
      "Coping Downloads\\liji new passport.pdf to C:\\Users\\liji\\Desktop\\dest\n",
      "Coping Downloads\\liji passport.pdf to C:\\Users\\liji\\Desktop\\dest\n",
      "Coping Downloads\\MA5151-Advanced Mathematical Methods qb.pdf to C:\\Users\\liji\\Desktop\\dest\n",
      "Coping Downloads\\Marriage Certificate_jinsmon and liji (1).pdf to C:\\Users\\liji\\Desktop\\dest\n",
      "Coping Downloads\\Marriage Certificate_jinsmon and liji.pdf to C:\\Users\\liji\\Desktop\\dest\n",
      "Coping Downloads\\ME CC.pdf to C:\\Users\\liji\\Desktop\\dest\n",
      "Coping Downloads\\ME TC.pdf to C:\\Users\\liji\\Desktop\\dest\n",
      "Coping Downloads\\nick-night-B38iYfN4o5o-unsplash.jpg to C:\\Users\\liji\\Desktop\\dest\n",
      "Coping Downloads\\Ouriginal Report - AVITINC107.docx (D107158788).pdf to C:\\Users\\liji\\Desktop\\dest\n",
      "Coping Downloads\\P&ID Symbols.jpg to C:\\Users\\liji\\Desktop\\dest\n",
      "Coping Downloads\\Second_Printing_Typos.pdf to C:\\Users\\liji\\Desktop\\dest\n",
      "Coping Downloads\\Sem 1-2.pdf to C:\\Users\\liji\\Desktop\\dest\n",
      "Coping Downloads\\SIGN IMAGE.jpg to C:\\Users\\liji\\Desktop\\dest\n",
      "Coping Downloads\\TapScanner 05-21-2021-11.17.pdf to C:\\Users\\liji\\Desktop\\dest\n",
      "Coping Downloads\\TA_SEP26.pdf to C:\\Users\\liji\\Desktop\\dest\n",
      "Coping Downloads\\TENSOR ANALYSIS.pdf to C:\\Users\\liji\\Desktop\\dest\n",
      "Coping Downloads\\TNMAS10737750000000025_new.pdf to C:\\Users\\liji\\Desktop\\dest\n",
      "Coping Downloads\\WhatsApp Video 2020-12-10 at 7.30.01 PM.mp4 to C:\\Users\\liji\\Desktop\\dest\n",
      "Coping Downloads\\WhatsApp Video 2021-03-03 at 4.52.00 AM.mp4 to C:\\Users\\liji\\Desktop\\dest\n",
      "Coping Downloads\\interview-question-data-science--master\\interview-question-data-science--master\\Data Science Interview Interview Questions(#Day28).pdf to C:\\Users\\liji\\Desktop\\dest\n",
      "Coping Downloads\\interview-question-data-science--master\\interview-question-data-science--master\\Data Science Interview Preparation Questions(#Day06).pdf to C:\\Users\\liji\\Desktop\\dest\n",
      "Coping Downloads\\interview-question-data-science--master\\interview-question-data-science--master\\Data Science Interview Preparation(# DAY 22).pdf to C:\\Users\\liji\\Desktop\\dest\n",
      "Coping Downloads\\interview-question-data-science--master\\interview-question-data-science--master\\Data Science Interview Preparation(#DAY 02).pdf to C:\\Users\\liji\\Desktop\\dest\n",
      "Coping Downloads\\interview-question-data-science--master\\interview-question-data-science--master\\Data Science Interview Preparation(#DAY 04).pdf to C:\\Users\\liji\\Desktop\\dest\n",
      "Coping Downloads\\interview-question-data-science--master\\interview-question-data-science--master\\Data Science Interview Preparation(#DAY 05).pdf to C:\\Users\\liji\\Desktop\\dest\n",
      "Coping Downloads\\interview-question-data-science--master\\interview-question-data-science--master\\Data Science Interview Preparation(#DAY 08).pdf to C:\\Users\\liji\\Desktop\\dest\n",
      "Coping Downloads\\interview-question-data-science--master\\interview-question-data-science--master\\Data Science Interview Preparation(#DAY 10).pdf to C:\\Users\\liji\\Desktop\\dest\n",
      "Coping Downloads\\interview-question-data-science--master\\interview-question-data-science--master\\Data Science Interview Preparation(#DAY 11).pdf to C:\\Users\\liji\\Desktop\\dest\n",
      "Coping Downloads\\interview-question-data-science--master\\interview-question-data-science--master\\Data Science Interview Preparation(#DAY 14).pdf to C:\\Users\\liji\\Desktop\\dest\n",
      "Coping Downloads\\interview-question-data-science--master\\interview-question-data-science--master\\Data Science Interview Preparation(#DAY 16).pdf to C:\\Users\\liji\\Desktop\\dest\n",
      "Coping Downloads\\interview-question-data-science--master\\interview-question-data-science--master\\Data Science Interview Preparation(#DAY 18).pdf to C:\\Users\\liji\\Desktop\\dest\n",
      "Coping Downloads\\interview-question-data-science--master\\interview-question-data-science--master\\Data Science Interview Preparation(#DAY 23).pdf to C:\\Users\\liji\\Desktop\\dest\n",
      "Coping Downloads\\interview-question-data-science--master\\interview-question-data-science--master\\Data Science Interview Preparation(#DAY 24).pdf to C:\\Users\\liji\\Desktop\\dest\n",
      "Coping Downloads\\interview-question-data-science--master\\interview-question-data-science--master\\Data Science Interview Preparation(#DAY 3).pdf to C:\\Users\\liji\\Desktop\\dest\n",
      "Coping Downloads\\interview-question-data-science--master\\interview-question-data-science--master\\Data Science Interview Preparation(#DAY 7).pdf to C:\\Users\\liji\\Desktop\\dest\n",
      "Coping Downloads\\interview-question-data-science--master\\interview-question-data-science--master\\Data Science Interview Preparation.pdf to C:\\Users\\liji\\Desktop\\dest\n",
      "Coping Downloads\\interview-question-data-science--master\\interview-question-data-science--master\\Data Science Interview Questiona(#Day21).pdf to C:\\Users\\liji\\Desktop\\dest\n",
      "Coping Downloads\\interview-question-data-science--master\\interview-question-data-science--master\\Data Science INterview Questions #Day1.pdf to C:\\Users\\liji\\Desktop\\dest\n",
      "Coping Downloads\\interview-question-data-science--master\\interview-question-data-science--master\\DATA SCIENCE INTERVIEW QUESTIONS(#DAY12).pdf to C:\\Users\\liji\\Desktop\\dest\n",
      "Coping Downloads\\interview-question-data-science--master\\interview-question-data-science--master\\DATA SCIENCE INTERVIEW QUESTIONS(#DAY13).pdf to C:\\Users\\liji\\Desktop\\dest\n",
      "Coping Downloads\\interview-question-data-science--master\\interview-question-data-science--master\\DATA SCIENCE INTERVIEW QUESTIONS(#DAY15).pdf to C:\\Users\\liji\\Desktop\\dest\n",
      "Coping Downloads\\interview-question-data-science--master\\interview-question-data-science--master\\Data Science Interview Questions(#Day17).pdf to C:\\Users\\liji\\Desktop\\dest\n",
      "Coping Downloads\\interview-question-data-science--master\\interview-question-data-science--master\\DATA SCIENCE INTERVIEW QUESTIONS(#DAY19).pdf to C:\\Users\\liji\\Desktop\\dest\n",
      "Coping Downloads\\interview-question-data-science--master\\interview-question-data-science--master\\Data Science Interview Questions(#DAY20).pdf to C:\\Users\\liji\\Desktop\\dest\n",
      "Coping Downloads\\interview-question-data-science--master\\interview-question-data-science--master\\Data science Interview Questions(#Day25).pdf to C:\\Users\\liji\\Desktop\\dest\n",
      "Coping Downloads\\interview-question-data-science--master\\interview-question-data-science--master\\Data Science Interview Questions(#Day26).pdf to C:\\Users\\liji\\Desktop\\dest\n",
      "Coping Downloads\\interview-question-data-science--master\\interview-question-data-science--master\\Data Science Interview Questions(#Day27).pdf to C:\\Users\\liji\\Desktop\\dest\n",
      "Coping Downloads\\interview-question-data-science--master\\interview-question-data-science--master\\DATA SCIENCE INTERVIEW QUESTIONS(#DAY9).pdf to C:\\Users\\liji\\Desktop\\dest\n",
      "Coping Downloads\\interview-question-data-science--master\\interview-question-data-science--master\\Final Data Science Interview Questions(#Day30).pdf to C:\\Users\\liji\\Desktop\\dest\n"
     ]
    }
   ],
   "source": [
    "import os, shutil\n",
    "\n",
    "def selectiveCopy(source, extensions, destFolder):\n",
    "    folder = os.path.abspath(source)\n",
    "    destFolder = os.path.abspath(destFolder)\n",
    "    print('Looking in', source, 'for files with extensions of', ', '.join(extensions))\n",
    "    for foldername, subfolders, filenames in os.walk(source):\n",
    "        for filename in filenames:\n",
    "            name, extension = os.path.splitext(filename)\n",
    "            if extension in extensions:\n",
    "                fileAbsPath = foldername + os.path.sep + filename\n",
    "                print('Coping', fileAbsPath, 'to', destFolder)\n",
    "                shutil.copy(fileAbsPath, destFolder)\n",
    "\n",
    "extensions = ['.mp4', '.pdf','.jpg']\n",
    "source = \"Downloads\"\n",
    "destFolder = \"C:Desktop\\\\dest\"\n",
    "selectiveCopy(source, extensions, destFolder)"
   ]
  },
  {
   "cell_type": "code",
   "execution_count": null,
   "id": "a33a87d1",
   "metadata": {},
   "outputs": [],
   "source": []
  }
 ],
 "metadata": {
  "kernelspec": {
   "display_name": "Python 3 (ipykernel)",
   "language": "python",
   "name": "python3"
  },
  "language_info": {
   "codemirror_mode": {
    "name": "ipython",
    "version": 3
   },
   "file_extension": ".py",
   "mimetype": "text/x-python",
   "name": "python",
   "nbconvert_exporter": "python",
   "pygments_lexer": "ipython3",
   "version": "3.9.7"
  }
 },
 "nbformat": 4,
 "nbformat_minor": 5
}
