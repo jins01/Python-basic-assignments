{
 "cells": [
  {
   "cell_type": "markdown",
   "id": "d25cacce",
   "metadata": {},
   "source": [
    "#1.What are Escape characters ? and how do you use them ?\n",
    "\n",
    "#Ans: Escape characters represent characters in string values that would otherwise be difficult or impossible to type into code. we can use the backslash character to escape a single character or symbol\n",
    "#example: \\t, \\n"
   ]
  },
  {
   "cell_type": "markdown",
   "id": "af812ad9",
   "metadata": {},
   "source": [
    "#2.What do the escape characters n and t stand for ? \n",
    "\n",
    "#Ans: \\n is a newline, \\t is a tab"
   ]
  },
  {
   "cell_type": "markdown",
   "id": "007cd062",
   "metadata": {},
   "source": [
    "#3.What is the way to include backslash character in a string? \n",
    "\n",
    "#Ans: The \\ escape character will represent the backslash character in a string"
   ]
  },
  {
   "cell_type": "markdown",
   "id": "f8b9582b",
   "metadata": {},
   "source": [
    "4.The string \"Howl's Moving Castle\" is a correct value. Why isn't the single quote character in the word Howl's not escaped a problem ?\n",
    "Ans: The string \"Howl's Moving Castle\" escaped the problem because it is wrapped inside double quotes. if its wrapped inside single quotes then we have to use escape character \\' to show single quote in the final output\n",
    "'Howl\\'s Moving Castle' -> 'Howl's Moving Castle'"
   ]
  },
  {
   "cell_type": "markdown",
   "id": "a2f4b013",
   "metadata": {},
   "source": [
    "#4.The string \"Howl's Moving Castle\" is a correct value. Why isn't the single quote character in the word Howl's not escaped a problem ? \n",
    "\n",
    "#Ans: The string \"Howl's Moving Castle\" escaped the problem because it is wrapped inside double quotes. if its wrapped inside single quotes then we have to use escape character ' to show single quote in the final output 'Howl's Moving Castle' -> 'Howl's Moving Castle'"
   ]
  },
  {
   "cell_type": "markdown",
   "id": "a6bed8c3",
   "metadata": {},
   "source": [
    "#5.How do you write a string of newlines if you don't want to use the n character? \n",
    "\n",
    "#Ans: Multiline string allow you to use newlines in string without the \\n escape character"
   ]
  },
  {
   "cell_type": "code",
   "execution_count": 1,
   "id": "6d875b0d",
   "metadata": {},
   "outputs": [
    {
     "name": "stdout",
     "output_type": "stream",
     "text": [
      "iNeuron full stack\n",
      "Data Science Course\n"
     ]
    }
   ],
   "source": [
    "# Example:\n",
    "a = '''iNeuron full stack\n",
    "Data Science Course'''\n",
    "print(a)"
   ]
  },
  {
   "cell_type": "markdown",
   "id": "f6fbb7ab",
   "metadata": {},
   "source": [
    "#6.What are the values of the given expressions ? 'Hello, world!'[1] 'Hello, world!'[0:5] 'Hello, world!'[:5] 'Hello, world!'[3:]\n",
    "\n",
    "#Ans: The values for the given expressions are: 'Hello, world!'[1] -> 'e' 'Hello, world!'[0:5] -> 'Hello' 'Hello, world!'[:5] -> 'Hello' 'Hello, world!'[3:] -> 'lo, world!'"
   ]
  },
  {
   "cell_type": "markdown",
   "id": "93c4e441",
   "metadata": {},
   "source": [
    "#7.What are the values of the following expressions ? 'Hello'.upper() 'Hello'.upper().isupper() 'Hello'.upper().lower()\n",
    "\n",
    "#Ans: The values for the given expressions are: 'Hello'.upper() -> 'HELLO' 'Hello'.upper().isupper() -> True 'Hello'.upper().lower() -> 'hello'"
   ]
  },
  {
   "cell_type": "markdown",
   "id": "7adf1bf4",
   "metadata": {},
   "source": [
    "#8.What are the values of the following expressions ? 'Remember, remember, the fifith of July.'.split() -'.join('There can only one'.split())\n",
    "\n",
    "#Ans: The values for the given expressions are: 'Remember, remember, the fifith of July.'.split() -> ['Remember,', 'remember,', 'the', 'fifith', 'of', 'July.'] '-'.join('There can only one'.split()) -> 'There-can-only-one'"
   ]
  },
  {
   "cell_type": "markdown",
   "id": "20509f5f",
   "metadata": {},
   "source": [
    "#9.What are the methods for right-justifying, left-justifying and centering a string ? \n",
    "\n",
    "#Ans: The rjust(),ljust(),center() string methods, respectively"
   ]
  },
  {
   "cell_type": "markdown",
   "id": "86ef1583",
   "metadata": {},
   "source": [
    "#10.What is the best way to remove whitespace characters from the start or end ? \n",
    "\n",
    "#Ans: The lstrip() and rstrip() methods remove whitesapce characters from the left and right ends of a string respectively"
   ]
  }
 ],
 "metadata": {
  "kernelspec": {
   "display_name": "Python 3 (ipykernel)",
   "language": "python",
   "name": "python3"
  },
  "language_info": {
   "codemirror_mode": {
    "name": "ipython",
    "version": 3
   },
   "file_extension": ".py",
   "mimetype": "text/x-python",
   "name": "python",
   "nbconvert_exporter": "python",
   "pygments_lexer": "ipython3",
   "version": "3.9.7"
  }
 },
 "nbformat": 4,
 "nbformat_minor": 5
}
