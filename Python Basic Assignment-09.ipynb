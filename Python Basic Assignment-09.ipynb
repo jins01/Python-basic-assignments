{
 "cells": [
  {
   "cell_type": "markdown",
   "id": "744d0425",
   "metadata": {},
   "source": [
    "## 1. To what does a relative path refer?\n",
    "\n",
    "The absolute path is helpful, but it can become complex very soon. So, to minimize this complexity, a relative path is used. Relative path means the path of a certain file relative to the current working directory.\n",
    "\n",
    "For example, if the current working directory is C:\\PythonProjects\\Tutorials, the path.py file’s relative path would be \\Paths\\paths.py which is shorter and easier to use than the absolute path C:\\PythonProjects\\Tutorials\\Paths\\paths.py.\n",
    "\n",
    "The absolute path of a file remains the same everywhere, but the relative path changes depending upon the current working directory."
   ]
  },
  {
   "cell_type": "markdown",
   "id": "31ea0f53",
   "metadata": {},
   "source": [
    "## 2. What does an absolute path start with your operating system?\n",
    "\n",
    "An absolute path is defined as the specifying the location of a file or directory from the root directory(/). To write an absolute path-name:\n",
    "\n",
    "Start at the root directory ( / ) and work down. Write a slash ( / ) after every directory name.\n",
    "\n"
   ]
  },
  {
   "cell_type": "code",
   "execution_count": 1,
   "id": "88e36dc1",
   "metadata": {},
   "outputs": [
    {
     "data": {
      "text/plain": [
       "'C:\\\\example\\\\cwd\\\\mydir\\\\myfile.txt'"
      ]
     },
     "execution_count": 1,
     "metadata": {},
     "output_type": "execute_result"
    }
   ],
   "source": [
    "import os\n",
    "os.path.abspath(\"C:/example/cwd/mydir/myfile.txt\")"
   ]
  },
  {
   "cell_type": "markdown",
   "id": "477343d5",
   "metadata": {},
   "source": [
    "## 3. What do the functions os.getcwd() and os.chdir() do?\n",
    "\n",
    "os.getcwd()\n",
    "The method os.getcwd() in Python returns the current working directory of a process. Every process running under an operating system has an associated working directory, which is called as the current working directory of the process. The current working directory of a process can be changed by calling the Python method os.chdir(). While referring any files only the file names or paths relative to the current working directory can be used instead of using absolute paths.\n",
    "\n",
    "os.chdir() do\n",
    "os.chdir() method in Python used to change the current working directory to specified path. It takes only a single argument as new directory path"
   ]
  },
  {
   "cell_type": "code",
   "execution_count": 5,
   "id": "4c4237ee",
   "metadata": {},
   "outputs": [
    {
     "data": {
      "text/plain": [
       "'C:\\\\Users\\\\liji'"
      ]
     },
     "execution_count": 5,
     "metadata": {},
     "output_type": "execute_result"
    }
   ],
   "source": [
    "# import os\n",
    "os.getcwd()"
   ]
  },
  {
   "cell_type": "code",
   "execution_count": 4,
   "id": "3abe8075",
   "metadata": {},
   "outputs": [],
   "source": [
    "os.chdir('C:\\\\Users\\\\liji')"
   ]
  },
  {
   "cell_type": "markdown",
   "id": "415f13a4",
   "metadata": {},
   "source": [
    "## 4. What are the . and .. folders?\n",
    "\n",
    "The . folder is the current folder, and .. is the parent folder."
   ]
  },
  {
   "cell_type": "markdown",
   "id": "8ae3a4f3",
   "metadata": {},
   "source": [
    "## 5. In C:\\bacon\\eggs\\spam.txt, which part is the dir name, and which part is the base name?\n",
    "\n",
    "C:\\bacon\\eggs is the dir name, while spam.txt is the base name."
   ]
  },
  {
   "cell_type": "markdown",
   "id": "adfbe5c8",
   "metadata": {},
   "source": [
    "## 6. What are the three “mode” arguments that can be passed to the open() function?\n",
    "\n",
    "The string 'r' for read mode, 'w' for write mode, and 'a' for append mode"
   ]
  },
  {
   "cell_type": "markdown",
   "id": "5f5de6d9",
   "metadata": {},
   "source": [
    "## 7. What happens if an existing file is opened in write mode?\n",
    "\n",
    "An existing file opened in write mode is erased and completely overwritten."
   ]
  },
  {
   "cell_type": "markdown",
   "id": "1c1329c1",
   "metadata": {},
   "source": [
    "## 8. How do you tell the difference between read() and readlines()?\n",
    "\n",
    "The read() method returns the file’s entire contents as a single string value. The readlines() method returns a list of strings, where each string is a line from the file’s contents."
   ]
  },
  {
   "cell_type": "markdown",
   "id": "82a8a402",
   "metadata": {},
   "source": [
    "## 9. What data structure does a shelf value resemble?\n",
    "\n",
    "A shelf value resembles a dictionary value; it has keys and values, along with keys() and values() methods that work similarly to the dictionary methods of the same names."
   ]
  }
 ],
 "metadata": {
  "kernelspec": {
   "display_name": "Python 3 (ipykernel)",
   "language": "python",
   "name": "python3"
  },
  "language_info": {
   "codemirror_mode": {
    "name": "ipython",
    "version": 3
   },
   "file_extension": ".py",
   "mimetype": "text/x-python",
   "name": "python",
   "nbconvert_exporter": "python",
   "pygments_lexer": "ipython3",
   "version": "3.9.7"
  }
 },
 "nbformat": 4,
 "nbformat_minor": 5
}
