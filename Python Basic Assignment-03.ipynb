{
 "cells": [
  {
   "cell_type": "markdown",
   "id": "f6eaf84b",
   "metadata": {},
   "source": [
    "# 1. Why are functions advantageous to have in your programs?\n",
    " \n",
    " Reusability -- Once a function is written, it can be called multiple times from within the program, This makes programs shorter, easier to read, and easier to update."
   ]
  },
  {
   "cell_type": "markdown",
   "id": "f90148a0",
   "metadata": {},
   "source": [
    "# 2. When does the code in a function run: when it's specified or when it's called?\n",
    "\n",
    " The code in a function runs ,When its called."
   ]
  },
  {
   "cell_type": "markdown",
   "id": "8d07a68e",
   "metadata": {},
   "source": [
    "# 3. What statement creates a function?\n",
    "\n",
    " def - statement will create and define a function"
   ]
  },
  {
   "cell_type": "markdown",
   "id": "98dcbe1f",
   "metadata": {},
   "source": [
    "# 4. What is the difference between a function and a function call?\n",
    "\n",
    "A function consists of the def statement and the code in its def clause.\n",
    "A function call is what moves the program execution into the function, and the function call evaluates to the function's return value."
   ]
  },
  {
   "cell_type": "markdown",
   "id": "1ecef63e",
   "metadata": {},
   "source": [
    "# 5. How many global scopes are there in a Python program? How many local scopes?\n",
    "\n",
    "There is one global scope , local scopes is created when ever function is called."
   ]
  },
  {
   "cell_type": "markdown",
   "id": "7fc4186d",
   "metadata": {},
   "source": [
    "# 6. What happens to variables in a local scope when the function call returns?\n",
    "\n",
    " The local scope got destroyed and all the variables in it are forgotten."
   ]
  },
  {
   "cell_type": "markdown",
   "id": "fdc64429",
   "metadata": {},
   "source": [
    "# 7. What is the concept of a return value? Is it possible to have a return value in an expression?\n",
    "\n",
    " A return value is the value that a function call evaluates to. It can part of any expression"
   ]
  },
  {
   "cell_type": "markdown",
   "id": "7764d391",
   "metadata": {},
   "source": [
    "# 8. If a function does not have a return statement, what is the return value of a call to that function?\n",
    "  \n",
    "If function does not have return statement, its return value of a call to the function is none."
   ]
  },
  {
   "cell_type": "markdown",
   "id": "f8bc1b43",
   "metadata": {},
   "source": [
    "# 9. How do you make a function variable refer to the global variable?\n",
    "   \n",
    "   A global statement will force a variable in a function to refer to the global variable."
   ]
  },
  {
   "cell_type": "markdown",
   "id": "1e1f1cad",
   "metadata": {},
   "source": [
    "# 10. What is the data type of None?\n",
    "  \n",
    "    Nonetype"
   ]
  },
  {
   "cell_type": "markdown",
   "id": "5b1594e6",
   "metadata": {},
   "source": [
    "# 11. What does the sentence import areallyourpetsnamederic do?\n",
    "  areallyourpetsnamederic ia not a python module. Importing this module will throughs ModuleNotFoundError exceptio"
   ]
  },
  {
   "cell_type": "code",
   "execution_count": 1,
   "id": "87474629",
   "metadata": {},
   "outputs": [
    {
     "ename": "ModuleNotFoundError",
     "evalue": "No module named 'areallyourpetsnamederic'",
     "output_type": "error",
     "traceback": [
      "\u001b[1;31m---------------------------------------------------------------------------\u001b[0m",
      "\u001b[1;31mModuleNotFoundError\u001b[0m                       Traceback (most recent call last)",
      "\u001b[1;32m~\\AppData\\Local\\Temp/ipykernel_6192/51184242.py\u001b[0m in \u001b[0;36m<module>\u001b[1;34m\u001b[0m\n\u001b[1;32m----> 1\u001b[1;33m \u001b[1;32mimport\u001b[0m \u001b[0mareallyourpetsnamederic\u001b[0m\u001b[1;33m\u001b[0m\u001b[1;33m\u001b[0m\u001b[0m\n\u001b[0m",
      "\u001b[1;31mModuleNotFoundError\u001b[0m: No module named 'areallyourpetsnamederic'"
     ]
    }
   ],
   "source": [
    "import areallyourpetsnamederic"
   ]
  },
  {
   "cell_type": "code",
   "execution_count": 2,
   "id": "8a0271a6",
   "metadata": {},
   "outputs": [
    {
     "ename": "IndentationError",
     "evalue": "unexpected indent (Temp/ipykernel_6192/702137564.py, line 2)",
     "output_type": "error",
     "traceback": [
      "\u001b[1;36m  File \u001b[1;32m\"C:\\Users\\liji\\AppData\\Local\\Temp/ipykernel_6192/702137564.py\"\u001b[1;36m, line \u001b[1;32m2\u001b[0m\n\u001b[1;33m    This function can be called with spam.bacon(). like below\u001b[0m\n\u001b[1;37m    ^\u001b[0m\n\u001b[1;31mIndentationError\u001b[0m\u001b[1;31m:\u001b[0m unexpected indent\n"
     ]
    }
   ],
   "source": [
    "# 12. If you had a bacon() feature in a spam module, what would you call it after importing spam?\n",
    "     This function can be called with spam.bacon(). like below\n",
    "     import spam\n",
    "     spam.bacon()"
   ]
  },
  {
   "cell_type": "markdown",
   "id": "1894135c",
   "metadata": {},
   "source": [
    "# 13. What can you do to save a programme from crashing if it encounters an error?\n",
    "\n",
    "we can write lines of code in try block. This will not crash the programme. And in except block we can catch the exception"
   ]
  },
  {
   "cell_type": "markdown",
   "id": "1f65dbd4",
   "metadata": {},
   "source": [
    "# 14. What is the purpose of the try clause? What is the purpose of the except clause?\n",
    "\n",
    "Try : The code that could potentially cause an error goes in the try clause. except : The code that executes if an error happens goes in the except clause, like print statments about exceptions, loggin statements"
   ]
  }
 ],
 "metadata": {
  "kernelspec": {
   "display_name": "Python 3 (ipykernel)",
   "language": "python",
   "name": "python3"
  },
  "language_info": {
   "codemirror_mode": {
    "name": "ipython",
    "version": 3
   },
   "file_extension": ".py",
   "mimetype": "text/x-python",
   "name": "python",
   "nbconvert_exporter": "python",
   "pygments_lexer": "ipython3",
   "version": "3.9.7"
  }
 },
 "nbformat": 4,
 "nbformat_minor": 5
}
